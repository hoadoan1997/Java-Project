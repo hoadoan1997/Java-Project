{
  "nbformat": 4,
  "nbformat_minor": 0,
  "metadata": {
    "colab": {
      "name": "California_Cities.ipynb",
      "provenance": [],
      "collapsed_sections": [],
      "authorship_tag": "ABX9TyPAlUMLYYGq6JXg2tsd+8bs",
      "include_colab_link": true
    },
    "kernelspec": {
      "name": "python3",
      "display_name": "Python 3"
    },
    "language_info": {
      "name": "python"
    }
  },
  "cells": [
    {
      "cell_type": "markdown",
      "metadata": {
        "id": "view-in-github",
        "colab_type": "text"
      },
      "source": [
        "<a href=\"https://colab.research.google.com/github/hoadoan1997/Data-Science/blob/master/California_Cities.ipynb\" target=\"_parent\"><img src=\"https://colab.research.google.com/assets/colab-badge.svg\" alt=\"Open In Colab\"/></a>"
      ]
    },
    {
      "cell_type": "code",
      "execution_count": null,
      "metadata": {
        "colab": {
          "base_uri": "https://localhost:8080/"
        },
        "id": "s4oluz4cNMdb",
        "outputId": "8a7d9c94-13d0-494e-8450-2beed0db75e4"
      },
      "outputs": [
        {
          "output_type": "stream",
          "name": "stdout",
          "text": [
            "Cloning into 'california_cities.csv'...\n",
            "fatal: repository 'https://github.com/CodexploreRepo/data-science/blob/main/Code/A4_Matplotlib/data/california_cities.csv/' not found\n"
          ]
        }
      ],
      "source": [
        "!git clone https://github.com/CodexploreRepo/data-science/blob/main/Code/A4_Matplotlib/data/california_cities.csv"
      ]
    },
    {
      "cell_type": "markdown",
      "source": [
        "# Project: Data Visualization - California Cities"
      ],
      "metadata": {
        "id": "315NFRxwOB8A"
      }
    },
    {
      "cell_type": "code",
      "source": [
        "import numpy as np\n",
        "import pandas as pd\n",
        "import matplotlib.pyplot as plt"
      ],
      "metadata": {
        "id": "gJ0hEsiBOMXr"
      },
      "execution_count": null,
      "outputs": []
    },
    {
      "cell_type": "code",
      "source": [
        "plt.style.available"
      ],
      "metadata": {
        "colab": {
          "base_uri": "https://localhost:8080/"
        },
        "id": "S9R74FM4PnGE",
        "outputId": "4f2efa96-d354-4b8b-faa6-5003982b6237"
      },
      "execution_count": null,
      "outputs": [
        {
          "output_type": "execute_result",
          "data": {
            "text/plain": [
              "['Solarize_Light2',\n",
              " '_classic_test_patch',\n",
              " 'bmh',\n",
              " 'classic',\n",
              " 'dark_background',\n",
              " 'fast',\n",
              " 'fivethirtyeight',\n",
              " 'ggplot',\n",
              " 'grayscale',\n",
              " 'seaborn',\n",
              " 'seaborn-bright',\n",
              " 'seaborn-colorblind',\n",
              " 'seaborn-dark',\n",
              " 'seaborn-dark-palette',\n",
              " 'seaborn-darkgrid',\n",
              " 'seaborn-deep',\n",
              " 'seaborn-muted',\n",
              " 'seaborn-notebook',\n",
              " 'seaborn-paper',\n",
              " 'seaborn-pastel',\n",
              " 'seaborn-poster',\n",
              " 'seaborn-talk',\n",
              " 'seaborn-ticks',\n",
              " 'seaborn-white',\n",
              " 'seaborn-whitegrid',\n",
              " 'tableau-colorblind10']"
            ]
          },
          "metadata": {},
          "execution_count": 14
        }
      ]
    },
    {
      "cell_type": "code",
      "source": [
        "plt.style.use('seaborn-whitegrid')"
      ],
      "metadata": {
        "id": "zuXZYRv8PpaO"
      },
      "execution_count": null,
      "outputs": []
    },
    {
      "cell_type": "code",
      "source": [
        "cities = pd.read_csv('california_cities.csv')\n",
        "\n",
        "cities[\"area_total_km2\"].sort_values(ascending=False)"
      ],
      "metadata": {
        "colab": {
          "base_uri": "https://localhost:8080/"
        },
        "id": "Q_GEDNT0OV8r",
        "outputId": "28e127e3-d78e-47da-e698-833bc789cf0c"
      },
      "execution_count": null,
      "outputs": [
        {
          "output_type": "execute_result",
          "data": {
            "text/plain": [
              "239    1302.000\n",
              "367     964.510\n",
              "55      527.401\n",
              "375     466.109\n",
              "26      371.946\n",
              "         ...   \n",
              "163         NaN\n",
              "237         NaN\n",
              "370         NaN\n",
              "393         NaN\n",
              "443         NaN\n",
              "Name: area_total_km2, Length: 482, dtype: float64"
            ]
          },
          "metadata": {},
          "execution_count": 34
        }
      ]
    },
    {
      "cell_type": "code",
      "source": [
        "cities.info()"
      ],
      "metadata": {
        "colab": {
          "base_uri": "https://localhost:8080/"
        },
        "id": "0FcOauUhOhOs",
        "outputId": "2a97da5c-e551-4ac8-b35d-378aedbfe98f"
      },
      "execution_count": null,
      "outputs": [
        {
          "output_type": "stream",
          "name": "stdout",
          "text": [
            "<class 'pandas.core.frame.DataFrame'>\n",
            "RangeIndex: 482 entries, 0 to 481\n",
            "Data columns (total 14 columns):\n",
            " #   Column              Non-Null Count  Dtype  \n",
            "---  ------              --------------  -----  \n",
            " 0   Unnamed: 0          482 non-null    int64  \n",
            " 1   city                482 non-null    object \n",
            " 2   latd                482 non-null    float64\n",
            " 3   longd               482 non-null    float64\n",
            " 4   elevation_m         434 non-null    float64\n",
            " 5   elevation_ft        470 non-null    float64\n",
            " 6   population_total    482 non-null    int64  \n",
            " 7   area_total_sq_mi    480 non-null    float64\n",
            " 8   area_land_sq_mi     482 non-null    float64\n",
            " 9   area_water_sq_mi    481 non-null    float64\n",
            " 10  area_total_km2      477 non-null    float64\n",
            " 11  area_land_km2       478 non-null    float64\n",
            " 12  area_water_km2      478 non-null    float64\n",
            " 13  area_water_percent  477 non-null    float64\n",
            "dtypes: float64(11), int64(2), object(1)\n",
            "memory usage: 52.8+ KB\n"
          ]
        }
      ]
    },
    {
      "cell_type": "code",
      "source": [
        "cities.describe()"
      ],
      "metadata": {
        "colab": {
          "base_uri": "https://localhost:8080/",
          "height": 382
        },
        "id": "kOoBHqS3Oljv",
        "outputId": "74978531-afc9-4651-8fd6-74bc915de791"
      },
      "execution_count": null,
      "outputs": [
        {
          "output_type": "execute_result",
          "data": {
            "text/plain": [
              "       Unnamed: 0        latd       longd  elevation_m  elevation_ft  \\\n",
              "count  482.000000  482.000000  482.000000   434.000000    470.000000   \n",
              "mean   240.500000   36.095088 -119.837714   180.416705    567.168723   \n",
              "std    139.285678    2.298006    2.147676   309.531825   1001.265722   \n",
              "min      0.000000   32.578333 -124.263333   -34.000000   -180.000000   \n",
              "25%    120.250000   33.977292 -121.954931    22.000000     69.000000   \n",
              "50%    240.500000   36.204722 -119.708611    67.000000    200.000000   \n",
              "75%    360.750000   37.886667 -117.977292   173.500000    515.000000   \n",
              "max    481.000000   41.965000 -114.596389  2402.000000   7880.000000   \n",
              "\n",
              "       population_total  area_total_sq_mi  area_land_sq_mi  area_water_sq_mi  \\\n",
              "count      4.820000e+02        480.000000       482.000000        481.000000   \n",
              "mean       6.489493e+04         18.442183        16.840981          1.589630   \n",
              "std        2.032041e+05         36.363230        32.694647          9.490386   \n",
              "min        1.000000e+00          0.314000         0.314000          0.000000   \n",
              "25%        1.090200e+04          3.708250         3.506500          0.000000   \n",
              "50%        2.905750e+04          9.093000         8.362000          0.029000   \n",
              "75%        6.646650e+04         19.878250        19.090000          0.244000   \n",
              "max        3.884307e+06        503.000000       469.000000        185.020000   \n",
              "\n",
              "       area_total_km2  area_land_km2  area_water_km2  area_water_percent  \n",
              "count      477.000000     478.000000      478.000000          477.000000  \n",
              "mean        46.753283      43.547021        3.125178            5.301801  \n",
              "std         90.972269      84.933022       11.562269           14.656428  \n",
              "min          0.813000       0.813000        0.000000            0.000000  \n",
              "25%          9.551000       9.025000        0.000250            0.000000  \n",
              "50%         23.551000      21.533000        0.078500            0.340000  \n",
              "75%         51.772000      49.322000        0.623250            1.870000  \n",
              "max       1302.000000    1214.000000      122.270000           84.580000  "
            ],
            "text/html": [
              "\n",
              "  <div id=\"df-c334a3df-6fae-4137-b56d-db24b803cdfe\">\n",
              "    <div class=\"colab-df-container\">\n",
              "      <div>\n",
              "<style scoped>\n",
              "    .dataframe tbody tr th:only-of-type {\n",
              "        vertical-align: middle;\n",
              "    }\n",
              "\n",
              "    .dataframe tbody tr th {\n",
              "        vertical-align: top;\n",
              "    }\n",
              "\n",
              "    .dataframe thead th {\n",
              "        text-align: right;\n",
              "    }\n",
              "</style>\n",
              "<table border=\"1\" class=\"dataframe\">\n",
              "  <thead>\n",
              "    <tr style=\"text-align: right;\">\n",
              "      <th></th>\n",
              "      <th>Unnamed: 0</th>\n",
              "      <th>latd</th>\n",
              "      <th>longd</th>\n",
              "      <th>elevation_m</th>\n",
              "      <th>elevation_ft</th>\n",
              "      <th>population_total</th>\n",
              "      <th>area_total_sq_mi</th>\n",
              "      <th>area_land_sq_mi</th>\n",
              "      <th>area_water_sq_mi</th>\n",
              "      <th>area_total_km2</th>\n",
              "      <th>area_land_km2</th>\n",
              "      <th>area_water_km2</th>\n",
              "      <th>area_water_percent</th>\n",
              "    </tr>\n",
              "  </thead>\n",
              "  <tbody>\n",
              "    <tr>\n",
              "      <th>count</th>\n",
              "      <td>482.000000</td>\n",
              "      <td>482.000000</td>\n",
              "      <td>482.000000</td>\n",
              "      <td>434.000000</td>\n",
              "      <td>470.000000</td>\n",
              "      <td>4.820000e+02</td>\n",
              "      <td>480.000000</td>\n",
              "      <td>482.000000</td>\n",
              "      <td>481.000000</td>\n",
              "      <td>477.000000</td>\n",
              "      <td>478.000000</td>\n",
              "      <td>478.000000</td>\n",
              "      <td>477.000000</td>\n",
              "    </tr>\n",
              "    <tr>\n",
              "      <th>mean</th>\n",
              "      <td>240.500000</td>\n",
              "      <td>36.095088</td>\n",
              "      <td>-119.837714</td>\n",
              "      <td>180.416705</td>\n",
              "      <td>567.168723</td>\n",
              "      <td>6.489493e+04</td>\n",
              "      <td>18.442183</td>\n",
              "      <td>16.840981</td>\n",
              "      <td>1.589630</td>\n",
              "      <td>46.753283</td>\n",
              "      <td>43.547021</td>\n",
              "      <td>3.125178</td>\n",
              "      <td>5.301801</td>\n",
              "    </tr>\n",
              "    <tr>\n",
              "      <th>std</th>\n",
              "      <td>139.285678</td>\n",
              "      <td>2.298006</td>\n",
              "      <td>2.147676</td>\n",
              "      <td>309.531825</td>\n",
              "      <td>1001.265722</td>\n",
              "      <td>2.032041e+05</td>\n",
              "      <td>36.363230</td>\n",
              "      <td>32.694647</td>\n",
              "      <td>9.490386</td>\n",
              "      <td>90.972269</td>\n",
              "      <td>84.933022</td>\n",
              "      <td>11.562269</td>\n",
              "      <td>14.656428</td>\n",
              "    </tr>\n",
              "    <tr>\n",
              "      <th>min</th>\n",
              "      <td>0.000000</td>\n",
              "      <td>32.578333</td>\n",
              "      <td>-124.263333</td>\n",
              "      <td>-34.000000</td>\n",
              "      <td>-180.000000</td>\n",
              "      <td>1.000000e+00</td>\n",
              "      <td>0.314000</td>\n",
              "      <td>0.314000</td>\n",
              "      <td>0.000000</td>\n",
              "      <td>0.813000</td>\n",
              "      <td>0.813000</td>\n",
              "      <td>0.000000</td>\n",
              "      <td>0.000000</td>\n",
              "    </tr>\n",
              "    <tr>\n",
              "      <th>25%</th>\n",
              "      <td>120.250000</td>\n",
              "      <td>33.977292</td>\n",
              "      <td>-121.954931</td>\n",
              "      <td>22.000000</td>\n",
              "      <td>69.000000</td>\n",
              "      <td>1.090200e+04</td>\n",
              "      <td>3.708250</td>\n",
              "      <td>3.506500</td>\n",
              "      <td>0.000000</td>\n",
              "      <td>9.551000</td>\n",
              "      <td>9.025000</td>\n",
              "      <td>0.000250</td>\n",
              "      <td>0.000000</td>\n",
              "    </tr>\n",
              "    <tr>\n",
              "      <th>50%</th>\n",
              "      <td>240.500000</td>\n",
              "      <td>36.204722</td>\n",
              "      <td>-119.708611</td>\n",
              "      <td>67.000000</td>\n",
              "      <td>200.000000</td>\n",
              "      <td>2.905750e+04</td>\n",
              "      <td>9.093000</td>\n",
              "      <td>8.362000</td>\n",
              "      <td>0.029000</td>\n",
              "      <td>23.551000</td>\n",
              "      <td>21.533000</td>\n",
              "      <td>0.078500</td>\n",
              "      <td>0.340000</td>\n",
              "    </tr>\n",
              "    <tr>\n",
              "      <th>75%</th>\n",
              "      <td>360.750000</td>\n",
              "      <td>37.886667</td>\n",
              "      <td>-117.977292</td>\n",
              "      <td>173.500000</td>\n",
              "      <td>515.000000</td>\n",
              "      <td>6.646650e+04</td>\n",
              "      <td>19.878250</td>\n",
              "      <td>19.090000</td>\n",
              "      <td>0.244000</td>\n",
              "      <td>51.772000</td>\n",
              "      <td>49.322000</td>\n",
              "      <td>0.623250</td>\n",
              "      <td>1.870000</td>\n",
              "    </tr>\n",
              "    <tr>\n",
              "      <th>max</th>\n",
              "      <td>481.000000</td>\n",
              "      <td>41.965000</td>\n",
              "      <td>-114.596389</td>\n",
              "      <td>2402.000000</td>\n",
              "      <td>7880.000000</td>\n",
              "      <td>3.884307e+06</td>\n",
              "      <td>503.000000</td>\n",
              "      <td>469.000000</td>\n",
              "      <td>185.020000</td>\n",
              "      <td>1302.000000</td>\n",
              "      <td>1214.000000</td>\n",
              "      <td>122.270000</td>\n",
              "      <td>84.580000</td>\n",
              "    </tr>\n",
              "  </tbody>\n",
              "</table>\n",
              "</div>\n",
              "      <button class=\"colab-df-convert\" onclick=\"convertToInteractive('df-c334a3df-6fae-4137-b56d-db24b803cdfe')\"\n",
              "              title=\"Convert this dataframe to an interactive table.\"\n",
              "              style=\"display:none;\">\n",
              "        \n",
              "  <svg xmlns=\"http://www.w3.org/2000/svg\" height=\"24px\"viewBox=\"0 0 24 24\"\n",
              "       width=\"24px\">\n",
              "    <path d=\"M0 0h24v24H0V0z\" fill=\"none\"/>\n",
              "    <path d=\"M18.56 5.44l.94 2.06.94-2.06 2.06-.94-2.06-.94-.94-2.06-.94 2.06-2.06.94zm-11 1L8.5 8.5l.94-2.06 2.06-.94-2.06-.94L8.5 2.5l-.94 2.06-2.06.94zm10 10l.94 2.06.94-2.06 2.06-.94-2.06-.94-.94-2.06-.94 2.06-2.06.94z\"/><path d=\"M17.41 7.96l-1.37-1.37c-.4-.4-.92-.59-1.43-.59-.52 0-1.04.2-1.43.59L10.3 9.45l-7.72 7.72c-.78.78-.78 2.05 0 2.83L4 21.41c.39.39.9.59 1.41.59.51 0 1.02-.2 1.41-.59l7.78-7.78 2.81-2.81c.8-.78.8-2.07 0-2.86zM5.41 20L4 18.59l7.72-7.72 1.47 1.35L5.41 20z\"/>\n",
              "  </svg>\n",
              "      </button>\n",
              "      \n",
              "  <style>\n",
              "    .colab-df-container {\n",
              "      display:flex;\n",
              "      flex-wrap:wrap;\n",
              "      gap: 12px;\n",
              "    }\n",
              "\n",
              "    .colab-df-convert {\n",
              "      background-color: #E8F0FE;\n",
              "      border: none;\n",
              "      border-radius: 50%;\n",
              "      cursor: pointer;\n",
              "      display: none;\n",
              "      fill: #1967D2;\n",
              "      height: 32px;\n",
              "      padding: 0 0 0 0;\n",
              "      width: 32px;\n",
              "    }\n",
              "\n",
              "    .colab-df-convert:hover {\n",
              "      background-color: #E2EBFA;\n",
              "      box-shadow: 0px 1px 2px rgba(60, 64, 67, 0.3), 0px 1px 3px 1px rgba(60, 64, 67, 0.15);\n",
              "      fill: #174EA6;\n",
              "    }\n",
              "\n",
              "    [theme=dark] .colab-df-convert {\n",
              "      background-color: #3B4455;\n",
              "      fill: #D2E3FC;\n",
              "    }\n",
              "\n",
              "    [theme=dark] .colab-df-convert:hover {\n",
              "      background-color: #434B5C;\n",
              "      box-shadow: 0px 1px 3px 1px rgba(0, 0, 0, 0.15);\n",
              "      filter: drop-shadow(0px 1px 2px rgba(0, 0, 0, 0.3));\n",
              "      fill: #FFFFFF;\n",
              "    }\n",
              "  </style>\n",
              "\n",
              "      <script>\n",
              "        const buttonEl =\n",
              "          document.querySelector('#df-c334a3df-6fae-4137-b56d-db24b803cdfe button.colab-df-convert');\n",
              "        buttonEl.style.display =\n",
              "          google.colab.kernel.accessAllowed ? 'block' : 'none';\n",
              "\n",
              "        async function convertToInteractive(key) {\n",
              "          const element = document.querySelector('#df-c334a3df-6fae-4137-b56d-db24b803cdfe');\n",
              "          const dataTable =\n",
              "            await google.colab.kernel.invokeFunction('convertToInteractive',\n",
              "                                                     [key], {});\n",
              "          if (!dataTable) return;\n",
              "\n",
              "          const docLinkHtml = 'Like what you see? Visit the ' +\n",
              "            '<a target=\"_blank\" href=https://colab.research.google.com/notebooks/data_table.ipynb>data table notebook</a>'\n",
              "            + ' to learn more about interactive tables.';\n",
              "          element.innerHTML = '';\n",
              "          dataTable['output_type'] = 'display_data';\n",
              "          await google.colab.output.renderOutput(dataTable, element);\n",
              "          const docLink = document.createElement('div');\n",
              "          docLink.innerHTML = docLinkHtml;\n",
              "          element.appendChild(docLink);\n",
              "        }\n",
              "      </script>\n",
              "    </div>\n",
              "  </div>\n",
              "  "
            ]
          },
          "metadata": {},
          "execution_count": 18
        }
      ]
    },
    {
      "cell_type": "code",
      "source": [
        "# Extract Latd and Longd\n",
        "\n",
        "lat, lon = cities[\"latd\"], cities['longd']\n",
        "\n",
        "population, area = cities['population_total'], cities['area_total_km2']\n",
        "\n",
        "# Plot using Pyplot API\n",
        "plt.style.use('seaborn')\n",
        "plt.figure(figsize=(8,6))\n",
        "plt.scatter(lon, lat, c= np.log10(population), cmap='viridis', s=area, linewidths=0, alpha=0.5);\n",
        "plt.axis('equal');\n",
        "plt.xlabel('Long latitude');\n",
        "plt.ylabel('Latitude');\n",
        "plt.colorbar(label='log$_{10}$(population)');\n",
        "plt.clim(3, 7)\n",
        "\n",
        "# Create lengend for cities's size\n",
        "area_range = [50, 100, 300, 500]\n",
        "for area in area_range:\n",
        "  plt.scatter([],[], s=area, label=str(area)+ 'km$^2$', c='k', alpha=0.4)\n",
        "\n",
        "plt.legend(labelspacing=1, title='City Area')\n",
        "\n",
        "plt.title('Califonia Cities: Population and Area Distribution');"
      ],
      "metadata": {
        "id": "Kg1P63rDPAN7",
        "colab": {
          "base_uri": "https://localhost:8080/",
          "height": 403
        },
        "outputId": "848749d3-90b5-44f3-9d15-e38db63992d2"
      },
      "execution_count": null,
      "outputs": [
        {
          "output_type": "display_data",
          "data": {
            "text/plain": [
              "<Figure size 576x432 with 2 Axes>"
            ],
            "image/png": "[encoded data removed]"
          },
          "metadata": {}
        }
      ]
    },
    {
      "cell_type": "code",
      "source": [
        "for i in range(100):\n",
        "  print('Anh yeu em')"
      ],
      "metadata": {
        "colab": {
          "base_uri": "https://localhost:8080/"
        },
        "id": "WKnxpe4VEYDS",
        "outputId": "b69bd608-ce1f-45f3-cbac-1d815ed1760c"
      },
      "execution_count": null,
      "outputs": [
        {
          "output_type": "stream",
          "name": "stdout",
          "text": [
            "Anh yeu em\n",
            "Anh yeu em\n",
            "Anh yeu em\n",
            "Anh yeu em\n",
            "Anh yeu em\n",
            "Anh yeu em\n",
            "Anh yeu em\n",
            "Anh yeu em\n",
            "Anh yeu em\n",
            "Anh yeu em\n",
            "Anh yeu em\n",
            "Anh yeu em\n",
            "Anh yeu em\n",
            "Anh yeu em\n",
            "Anh yeu em\n",
            "Anh yeu em\n",
            "Anh yeu em\n",
            "Anh yeu em\n",
            "Anh yeu em\n",
            "Anh yeu em\n",
            "Anh yeu em\n",
            "Anh yeu em\n",
            "Anh yeu em\n",
            "Anh yeu em\n",
            "Anh yeu em\n",
            "Anh yeu em\n",
            "Anh yeu em\n",
            "Anh yeu em\n",
            "Anh yeu em\n",
            "Anh yeu em\n",
            "Anh yeu em\n",
            "Anh yeu em\n",
            "Anh yeu em\n",
            "Anh yeu em\n",
            "Anh yeu em\n",
            "Anh yeu em\n",
            "Anh yeu em\n",
            "Anh yeu em\n",
            "Anh yeu em\n",
            "Anh yeu em\n",
            "Anh yeu em\n",
            "Anh yeu em\n",
            "Anh yeu em\n",
            "Anh yeu em\n",
            "Anh yeu em\n",
            "Anh yeu em\n",
            "Anh yeu em\n",
            "Anh yeu em\n",
            "Anh yeu em\n",
            "Anh yeu em\n",
            "Anh yeu em\n",
            "Anh yeu em\n",
            "Anh yeu em\n",
            "Anh yeu em\n",
            "Anh yeu em\n",
            "Anh yeu em\n",
            "Anh yeu em\n",
            "Anh yeu em\n",
            "Anh yeu em\n",
            "Anh yeu em\n",
            "Anh yeu em\n",
            "Anh yeu em\n",
            "Anh yeu em\n",
            "Anh yeu em\n",
            "Anh yeu em\n",
            "Anh yeu em\n",
            "Anh yeu em\n",
            "Anh yeu em\n",
            "Anh yeu em\n",
            "Anh yeu em\n",
            "Anh yeu em\n",
            "Anh yeu em\n",
            "Anh yeu em\n",
            "Anh yeu em\n",
            "Anh yeu em\n",
            "Anh yeu em\n",
            "Anh yeu em\n",
            "Anh yeu em\n",
            "Anh yeu em\n",
            "Anh yeu em\n",
            "Anh yeu em\n",
            "Anh yeu em\n",
            "Anh yeu em\n",
            "Anh yeu em\n",
            "Anh yeu em\n",
            "Anh yeu em\n",
            "Anh yeu em\n",
            "Anh yeu em\n",
            "Anh yeu em\n",
            "Anh yeu em\n",
            "Anh yeu em\n",
            "Anh yeu em\n",
            "Anh yeu em\n",
            "Anh yeu em\n",
            "Anh yeu em\n",
            "Anh yeu em\n",
            "Anh yeu em\n",
            "Anh yeu em\n",
            "Anh yeu em\n",
            "Anh yeu em\n"
          ]
        }
      ]
    }
  ]
}